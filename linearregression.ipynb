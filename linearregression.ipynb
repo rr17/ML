{
 "cells": [
  {
   "cell_type": "code",
   "execution_count": 13,
   "id": "4e3dd8bf-066c-4fc0-bebd-0e81d4ef36ba",
   "metadata": {},
   "outputs": [],
   "source": [
    "#Loaded the packages\n",
    "import pandas as pd\n",
    "import numpy as np\n",
    "from sklearn.linear_model import LinearRegression\n",
    "from sklearn.metrics import mean_squared_error\n",
    "import matplotlib.pyplot as plt"
   ]
  },
  {
   "cell_type": "code",
   "execution_count": 14,
   "id": "d8dca453-25e4-4d2f-a6f2-ac38f90498ef",
   "metadata": {},
   "outputs": [],
   "source": [
    "#Load Dataset\n",
    "df = pd.read_csv(r'C:\\Users\\Ranjani\\Downloads\\canada_per_capita_income.csv')"
   ]
  },
  {
   "cell_type": "code",
   "execution_count": 15,
   "id": "51f75aa7-ce2a-4c48-939b-9df9bde4acb7",
   "metadata": {},
   "outputs": [
    {
     "data": {
      "text/html": [
       "<div>\n",
       "<style scoped>\n",
       "    .dataframe tbody tr th:only-of-type {\n",
       "        vertical-align: middle;\n",
       "    }\n",
       "\n",
       "    .dataframe tbody tr th {\n",
       "        vertical-align: top;\n",
       "    }\n",
       "\n",
       "    .dataframe thead th {\n",
       "        text-align: right;\n",
       "    }\n",
       "</style>\n",
       "<table border=\"1\" class=\"dataframe\">\n",
       "  <thead>\n",
       "    <tr style=\"text-align: right;\">\n",
       "      <th></th>\n",
       "      <th>year</th>\n",
       "      <th>per capita income (US$)</th>\n",
       "    </tr>\n",
       "  </thead>\n",
       "  <tbody>\n",
       "    <tr>\n",
       "      <th>0</th>\n",
       "      <td>1970</td>\n",
       "      <td>3399.299037</td>\n",
       "    </tr>\n",
       "    <tr>\n",
       "      <th>1</th>\n",
       "      <td>1971</td>\n",
       "      <td>3768.297935</td>\n",
       "    </tr>\n",
       "    <tr>\n",
       "      <th>2</th>\n",
       "      <td>1972</td>\n",
       "      <td>4251.175484</td>\n",
       "    </tr>\n",
       "    <tr>\n",
       "      <th>3</th>\n",
       "      <td>1973</td>\n",
       "      <td>4804.463248</td>\n",
       "    </tr>\n",
       "    <tr>\n",
       "      <th>4</th>\n",
       "      <td>1974</td>\n",
       "      <td>5576.514583</td>\n",
       "    </tr>\n",
       "  </tbody>\n",
       "</table>\n",
       "</div>"
      ],
      "text/plain": [
       "   year  per capita income (US$)\n",
       "0  1970              3399.299037\n",
       "1  1971              3768.297935\n",
       "2  1972              4251.175484\n",
       "3  1973              4804.463248\n",
       "4  1974              5576.514583"
      ]
     },
     "execution_count": 15,
     "metadata": {},
     "output_type": "execute_result"
    }
   ],
   "source": [
    "df.head(5)"
   ]
  },
  {
   "cell_type": "code",
   "execution_count": 16,
   "id": "0efa3c5c-6241-44ec-84d3-dfa49bcc9736",
   "metadata": {},
   "outputs": [],
   "source": [
    "#Rename the columns\n",
    "df.rename(columns={'per capita income (US$)' :'Income'},inplace=True)"
   ]
  },
  {
   "cell_type": "code",
   "execution_count": 5,
   "id": "16a28daa-ff05-425e-9950-0e108a5143fc",
   "metadata": {},
   "outputs": [
    {
     "data": {
      "text/plain": [
       "<matplotlib.collections.PathCollection at 0x15957a9e720>"
      ]
     },
     "execution_count": 5,
     "metadata": {},
     "output_type": "execute_result"
    },
    {
     "data": {
      "image/png": "[encoded data removed]",
      "text/plain": [
       "<Figure size 640x480 with 1 Axes>"
      ]
     },
     "metadata": {},
     "output_type": "display_data"
    }
   ],
   "source": [
    "#Plot\n",
    "%matplotlib inline\n",
    "plt.xlabel('year')\n",
    "plt.ylabel('Income')\n",
    "plt.scatter(df.year,df.Income,color='red',marker='+')"
   ]
  },
  {
   "cell_type": "code",
   "execution_count": 21,
   "id": "10b3be05-cb8b-4ef5-aa75-dbc6bfcd3ccd",
   "metadata": {},
   "outputs": [],
   "source": [
    "#Y value\n",
    "Y= df.Income"
   ]
  },
  {
   "cell_type": "code",
   "execution_count": 23,
   "id": "cea993c1-38c5-4313-abb0-4f3bc41590c9",
   "metadata": {},
   "outputs": [],
   "source": [
    "#x value\n",
    "new_df = df.drop('Income',axis='columns')"
   ]
  },
  {
   "cell_type": "code",
   "execution_count": 24,
   "id": "9f6904a9-665f-4311-b5a4-bb797dc3639d",
   "metadata": {},
   "outputs": [],
   "source": [
    "rmodel = LinearRegression()"
   ]
  },
  {
   "cell_type": "code",
   "execution_count": 25,
   "id": "f843a13d-4593-458c-a36d-1fed148d7e8e",
   "metadata": {},
   "outputs": [],
   "source": [
    "#Create model\n",
    "rmodel = rmodel.fit(new_df,Y)"
   ]
  },
  {
   "cell_type": "code",
   "execution_count": 27,
   "id": "388ecfab-5313-4958-80be-7e0cc2350930",
   "metadata": {},
   "outputs": [
    {
     "name": "stderr",
     "output_type": "stream",
     "text": [
      "C:\\Users\\Ranjani\\anaconda3\\Lib\\site-packages\\sklearn\\base.py:493: UserWarning: X does not have valid feature names, but LinearRegression was fitted with feature names\n",
      "  warnings.warn(\n"
     ]
    },
    {
     "data": {
      "text/plain": [
       "array([8150.09108551])"
      ]
     },
     "execution_count": 27,
     "metadata": {},
     "output_type": "execute_result"
    }
   ],
   "source": [
    "#Predict the model\n",
    "rmodel.predict([[1980]])"
   ]
  },
  {
   "cell_type": "code",
   "execution_count": 28,
   "id": "6415a3f0-e056-4433-974e-c07e265e2be3",
   "metadata": {},
   "outputs": [
    {
     "data": {
      "text/plain": [
       "array([828.46507522])"
      ]
     },
     "execution_count": 28,
     "metadata": {},
     "output_type": "execute_result"
    }
   ],
   "source": [
    "rmodel.coef_"
   ]
  },
  {
   "cell_type": "code",
   "execution_count": 29,
   "id": "baa062f4-c652-4c98-865f-36bca6918708",
   "metadata": {},
   "outputs": [
    {
     "data": {
      "text/plain": [
       "-1632210.7578554575"
      ]
     },
     "execution_count": 29,
     "metadata": {},
     "output_type": "execute_result"
    }
   ],
   "source": [
    "rmodel.intercept_"
   ]
  },
  {
   "cell_type": "code",
   "execution_count": 30,
   "id": "7a534076-e227-4360-a807-17d200131f1e",
   "metadata": {},
   "outputs": [
    {
     "data": {
      "text/plain": [
       "8150.091080142651"
      ]
     },
     "execution_count": 30,
     "metadata": {},
     "output_type": "execute_result"
    }
   ],
   "source": [
    "1980*828.46507522 -1632210.75785545752\n"
   ]
  },
  {
   "cell_type": "code",
   "execution_count": 31,
   "id": "2cdb8270-8747-4985-b2d2-98832fcb4274",
   "metadata": {},
   "outputs": [
    {
     "name": "stderr",
     "output_type": "stream",
     "text": [
      "C:\\Users\\Ranjani\\anaconda3\\Lib\\site-packages\\sklearn\\base.py:493: UserWarning: X does not have valid feature names, but LinearRegression was fitted with feature names\n",
      "  warnings.warn(\n"
     ]
    },
    {
     "data": {
      "text/plain": [
       "array([41288.69409442])"
      ]
     },
     "execution_count": 31,
     "metadata": {},
     "output_type": "execute_result"
    }
   ],
   "source": [
    "rmodel.predict([[2020]])"
   ]
  },
  {
   "cell_type": "code",
   "execution_count": 32,
   "id": "27faecf6-d859-481e-b77b-9cdfacb64eb0",
   "metadata": {},
   "outputs": [],
   "source": [
    "y_predict = rmodel.predict(new_df)"
   ]
  },
  {
   "cell_type": "code",
   "execution_count": null,
   "id": "cf70ee7b-eacc-4ef0-9e02-9859fcb633eb",
   "metadata": {},
   "outputs": [],
   "source": []
  }
 ],
 "metadata": {
  "kernelspec": {
   "display_name": "Python 3 (ipykernel)",
   "language": "python",
   "name": "python3"
  },
  "language_info": {
   "codemirror_mode": {
    "name": "ipython",
    "version": 3
   },
   "file_extension": ".py",
   "mimetype": "text/x-python",
   "name": "python",
   "nbconvert_exporter": "python",
   "pygments_lexer": "ipython3",
   "version": "3.12.4"
  }
 },
 "nbformat": 4,
 "nbformat_minor": 5
}
